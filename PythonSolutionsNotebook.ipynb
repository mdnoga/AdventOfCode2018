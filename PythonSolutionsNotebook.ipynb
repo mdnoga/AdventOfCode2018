{
 "cells": [
  {
   "cell_type": "markdown",
   "metadata": {},
   "source": [
    "# Advent of Code 2018 \n",
    "\n",
    "[Advent of Code](https://adventofcode.com/)\n",
    "\n",
    "Solutions done in Python 3, if I get time I will do them in another language as well.\n",
    "\n",
    "\n",
    "---\n",
    "\n",
    "## Day 01: Chronal Calibration\n",
    "\n",
    "[description](https://adventofcode.com/2018/day/1)"
   ]
  },
  {
   "cell_type": "code",
   "execution_count": 1,
   "metadata": {},
   "outputs": [],
   "source": [
    "import os\n",
    "\n",
    "dayOneData = open(\"../inputs/day01.txt\", \"r\")"
   ]
  },
  {
   "cell_type": "markdown",
   "metadata": {},
   "source": [
    "### Part 1"
   ]
  },
  {
   "cell_type": "code",
   "execution_count": 2,
   "metadata": {},
   "outputs": [
    {
     "name": "stdout",
     "output_type": "stream",
     "text": [
      "416\n"
     ]
    }
   ],
   "source": [
    "frequency = 0\n",
    "\n",
    "for line in dayOneData:\n",
    "    frequency += int(line)\n",
    "\n",
    "print(frequency)"
   ]
  },
  {
   "cell_type": "markdown",
   "metadata": {},
   "source": [
    "### Part 2"
   ]
  },
  {
   "cell_type": "code",
   "execution_count": 3,
   "metadata": {},
   "outputs": [
    {
     "name": "stdout",
     "output_type": "stream",
     "text": [
      "56752 frequency showed twice\n"
     ]
    }
   ],
   "source": [
    "# reset the file pointer to the beginning of the file\n",
    "dayOneData.seek(0, 0);\n",
    "\n",
    "line = dayOneData.read().splitlines()\n",
    "\n",
    "frequency = 0\n",
    "frequencyList = set()\n",
    "i = 0\n",
    "\n",
    "while True:\n",
    "    frequency += int(line[i])\n",
    "\n",
    "    if frequency in frequencyList:\n",
    "        print(f\"{frequency} frequency showed twice\")\n",
    "        break\n",
    "        \n",
    "    frequencyList.add(frequency)\n",
    "    i = i + 1 if i != len(line) - 1 else 0\n"
   ]
  },
  {
   "cell_type": "code",
   "execution_count": null,
   "metadata": {},
   "outputs": [],
   "source": []
  },
  {
   "cell_type": "code",
   "execution_count": null,
   "metadata": {},
   "outputs": [],
   "source": []
  }
 ],
 "metadata": {
  "kernelspec": {
   "display_name": "Python 3",
   "language": "python",
   "name": "python3"
  },
  "language_info": {
   "codemirror_mode": {
    "name": "ipython",
    "version": 3
   },
   "file_extension": ".py",
   "mimetype": "text/x-python",
   "name": "python",
   "nbconvert_exporter": "python",
   "pygments_lexer": "ipython3",
   "version": "3.6.5"
  }
 },
 "nbformat": 4,
 "nbformat_minor": 2
}
